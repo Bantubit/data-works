{
 "cells": [
  {
   "cell_type": "code",
   "execution_count": 36,
   "metadata": {},
   "outputs": [],
   "source": [
    "import pandas as pd\n",
    "import numpy as np\n",
    "import snscrape.modules.twitter as sntwitter\n",
    "import csv\n",
    "from vaderSentiment.vaderSentiment import SentimentIntensityAnalyzer\n",
    "import matplotlib.pyplot as plt\n",
    "import math\n",
    "from itertools import product\n",
    "import datetime as dt\n",
    "\n"
   ]
  },
  {
   "cell_type": "code",
   "execution_count": 2,
   "metadata": {},
   "outputs": [
    {
     "name": "stdout",
     "output_type": "stream",
     "text": [
      "3.8.5\n"
     ]
    }
   ],
   "source": [
    "from platform import python_version\n",
    "\n",
    "print(python_version())"
   ]
  },
  {
   "cell_type": "code",
   "execution_count": null,
   "metadata": {},
   "outputs": [],
   "source": []
  },
  {
   "cell_type": "code",
   "execution_count": 3,
   "metadata": {},
   "outputs": [],
   "source": [
    "#maxTweets = 100000\n",
    "\n",
    "#keyword = 'Pfizer'\n",
    "\n",
    "#Open/create a file to append data to\n",
    "#csvFile = open('pfe_tweets_result.csv', 'a', newline='', encoding='utf8')\n",
    "\n",
    "#Use csv writer\n",
    "#csvWriter = csv.writer(csvFile)\n",
    "#csvWriter.writerow(['id','date','tweet',]) \n",
    "\n",
    "\n",
    "#for i,tweet in enumerate(sntwitter.TwitterSearchScraper(keyword + ' lang:en since:2020-01-01 until:2020-10-30 -filter:links -filter:replies').get_items()):\n",
    "#        if i > maxTweets :\n",
    "#            break  \n",
    "#        csvWriter.writerow([tweet.id, tweet.date, tweet.content])\n",
    "#csvFile.close()"
   ]
  },
  {
   "cell_type": "code",
   "execution_count": 4,
   "metadata": {},
   "outputs": [],
   "source": [
    "analyzer = SentimentIntensityAnalyzer()"
   ]
  },
  {
   "cell_type": "code",
   "execution_count": 5,
   "metadata": {},
   "outputs": [
    {
     "name": "stdout",
     "output_type": "stream",
     "text": [
      "This phone is super cool.--------------- {'neg': 0.0, 'neu': 0.326, 'pos': 0.674, 'compound': 0.7351}\n"
     ]
    }
   ],
   "source": [
    "def sentiment_analyzer_scores(sentence):\n",
    "    score = analyzer.polarity_scores(sentence)\n",
    "    # return(score['compound']) #prints only compound score\n",
    "    return(\"{:-<40} {}\".format(sentence, str(score)))\n",
    "\n",
    "\n",
    "print(sentiment_analyzer_scores(\"This phone is super cool.\"))"
   ]
  },
  {
   "cell_type": "code",
   "execution_count": 6,
   "metadata": {},
   "outputs": [],
   "source": [
    "df = pd.read_csv('/Users/Graham/data-works/pfe_tweets_result.csv')\n",
    "df = df.set_index('date')"
   ]
  },
  {
   "cell_type": "code",
   "execution_count": null,
   "metadata": {},
   "outputs": [],
   "source": []
  },
  {
   "cell_type": "code",
   "execution_count": 7,
   "metadata": {},
   "outputs": [],
   "source": [
    "df['compound'] = [analyzer.polarity_scores(x)['compound'] for x in df['tweet']] \n",
    "df['neg'] = [analyzer.polarity_scores(x)['neg'] for x in df['tweet']]\n",
    "df['neu'] = [analyzer.polarity_scores(x)['neu'] for x in df['tweet']]\n",
    "df['pos'] = [analyzer.polarity_scores(x)['pos'] for x in df['tweet']]\n",
    "# df['c_SMA'] = df['compound'].rolling(100).mean()"
   ]
  },
  {
   "cell_type": "code",
   "execution_count": 8,
   "metadata": {},
   "outputs": [
    {
     "data": {
      "text/html": [
       "<div>\n",
       "<style scoped>\n",
       "    .dataframe tbody tr th:only-of-type {\n",
       "        vertical-align: middle;\n",
       "    }\n",
       "\n",
       "    .dataframe tbody tr th {\n",
       "        vertical-align: top;\n",
       "    }\n",
       "\n",
       "    .dataframe thead th {\n",
       "        text-align: right;\n",
       "    }\n",
       "</style>\n",
       "<table border=\"1\" class=\"dataframe\">\n",
       "  <thead>\n",
       "    <tr style=\"text-align: right;\">\n",
       "      <th></th>\n",
       "      <th>id</th>\n",
       "      <th>tweet</th>\n",
       "      <th>compound</th>\n",
       "      <th>neg</th>\n",
       "      <th>neu</th>\n",
       "      <th>pos</th>\n",
       "    </tr>\n",
       "    <tr>\n",
       "      <th>date</th>\n",
       "      <th></th>\n",
       "      <th></th>\n",
       "      <th></th>\n",
       "      <th></th>\n",
       "      <th></th>\n",
       "      <th></th>\n",
       "    </tr>\n",
       "  </thead>\n",
       "  <tbody>\n",
       "    <tr>\n",
       "      <th>2020-01-01 07:30:54+00:00</th>\n",
       "      <td>1212274986116882432</td>\n",
       "      <td>#healthcare Get ready for it ,,,,Trump never a...</td>\n",
       "      <td>0.5093</td>\n",
       "      <td>0.000</td>\n",
       "      <td>0.896</td>\n",
       "      <td>0.104</td>\n",
       "    </tr>\n",
       "    <tr>\n",
       "      <th>2020-01-01 06:28:03+00:00</th>\n",
       "      <td>1212259169325051905</td>\n",
       "      <td>Exclusive: Drugmakers from Pfizer to GSK to hi...</td>\n",
       "      <td>0.5106</td>\n",
       "      <td>0.000</td>\n",
       "      <td>0.913</td>\n",
       "      <td>0.087</td>\n",
       "    </tr>\n",
       "    <tr>\n",
       "      <th>2020-01-01 06:21:47+00:00</th>\n",
       "      <td>1212257594275876867</td>\n",
       "      <td>Drugmakers from Pfizer to GSK to hike prices o...</td>\n",
       "      <td>-0.6751</td>\n",
       "      <td>0.179</td>\n",
       "      <td>0.760</td>\n",
       "      <td>0.060</td>\n",
       "    </tr>\n",
       "    <tr>\n",
       "      <th>2020-01-01 01:51:56+00:00</th>\n",
       "      <td>1212189683272294401</td>\n",
       "      <td>(12/31/2019) Per Reuters pharmaceutical compan...</td>\n",
       "      <td>0.0000</td>\n",
       "      <td>0.000</td>\n",
       "      <td>1.000</td>\n",
       "      <td>0.000</td>\n",
       "    </tr>\n",
       "    <tr>\n",
       "      <th>2020-01-01 00:34:37+00:00</th>\n",
       "      <td>1212170226940497920</td>\n",
       "      <td>Drugmakers from Pfizer to GSK to hike prices o...</td>\n",
       "      <td>0.3612</td>\n",
       "      <td>0.000</td>\n",
       "      <td>0.865</td>\n",
       "      <td>0.135</td>\n",
       "    </tr>\n",
       "  </tbody>\n",
       "</table>\n",
       "</div>"
      ],
      "text/plain": [
       "                                            id  \\\n",
       "date                                             \n",
       "2020-01-01 07:30:54+00:00  1212274986116882432   \n",
       "2020-01-01 06:28:03+00:00  1212259169325051905   \n",
       "2020-01-01 06:21:47+00:00  1212257594275876867   \n",
       "2020-01-01 01:51:56+00:00  1212189683272294401   \n",
       "2020-01-01 00:34:37+00:00  1212170226940497920   \n",
       "\n",
       "                                                                       tweet  \\\n",
       "date                                                                           \n",
       "2020-01-01 07:30:54+00:00  #healthcare Get ready for it ,,,,Trump never a...   \n",
       "2020-01-01 06:28:03+00:00  Exclusive: Drugmakers from Pfizer to GSK to hi...   \n",
       "2020-01-01 06:21:47+00:00  Drugmakers from Pfizer to GSK to hike prices o...   \n",
       "2020-01-01 01:51:56+00:00  (12/31/2019) Per Reuters pharmaceutical compan...   \n",
       "2020-01-01 00:34:37+00:00  Drugmakers from Pfizer to GSK to hike prices o...   \n",
       "\n",
       "                           compound    neg    neu    pos  \n",
       "date                                                      \n",
       "2020-01-01 07:30:54+00:00    0.5093  0.000  0.896  0.104  \n",
       "2020-01-01 06:28:03+00:00    0.5106  0.000  0.913  0.087  \n",
       "2020-01-01 06:21:47+00:00   -0.6751  0.179  0.760  0.060  \n",
       "2020-01-01 01:51:56+00:00    0.0000  0.000  1.000  0.000  \n",
       "2020-01-01 00:34:37+00:00    0.3612  0.000  0.865  0.135  "
      ]
     },
     "execution_count": 8,
     "metadata": {},
     "output_type": "execute_result"
    }
   ],
   "source": [
    "df.tail()"
   ]
  },
  {
   "cell_type": "code",
   "execution_count": 9,
   "metadata": {},
   "outputs": [
    {
     "name": "stdout",
     "output_type": "stream",
     "text": [
      "0.18320687029359506\n",
      "0.04815077417717235\n",
      "0.8512512902952872\n",
      "0.10059666638463491\n"
     ]
    }
   ],
   "source": [
    "print(np.average(df['compound']))\n",
    "print(np.average(df['neg']))\n",
    "print(np.average(df['neu']))\n",
    "print(np.average(df['pos']))"
   ]
  },
  {
   "cell_type": "code",
   "execution_count": 10,
   "metadata": {
    "scrolled": true
   },
   "outputs": [],
   "source": [
    "#plt.figure(figsize=(20,20))\n",
    "#plt.xlabel('Date')\n",
    "#plt.ylabel('Compound Simple MA')\n",
    "#plt.plot(df['c_SMA'])"
   ]
  },
  {
   "cell_type": "code",
   "execution_count": 11,
   "metadata": {},
   "outputs": [],
   "source": [
    "df.index = pd.to_datetime(df.index, errors='coerce',format='%Y-%m-%d %H:%M:%S')"
   ]
  },
  {
   "cell_type": "code",
   "execution_count": 12,
   "metadata": {},
   "outputs": [],
   "source": [
    "df1 = df.resample('D').mean()\n",
    "df2 = df1.iloc[5:]"
   ]
  },
  {
   "cell_type": "code",
   "execution_count": 13,
   "metadata": {},
   "outputs": [
    {
     "data": {
      "text/html": [
       "<div>\n",
       "<style scoped>\n",
       "    .dataframe tbody tr th:only-of-type {\n",
       "        vertical-align: middle;\n",
       "    }\n",
       "\n",
       "    .dataframe tbody tr th {\n",
       "        vertical-align: top;\n",
       "    }\n",
       "\n",
       "    .dataframe thead th {\n",
       "        text-align: right;\n",
       "    }\n",
       "</style>\n",
       "<table border=\"1\" class=\"dataframe\">\n",
       "  <thead>\n",
       "    <tr style=\"text-align: right;\">\n",
       "      <th></th>\n",
       "      <th>id</th>\n",
       "      <th>compound</th>\n",
       "      <th>neg</th>\n",
       "      <th>neu</th>\n",
       "      <th>pos</th>\n",
       "    </tr>\n",
       "    <tr>\n",
       "      <th>date</th>\n",
       "      <th></th>\n",
       "      <th></th>\n",
       "      <th></th>\n",
       "      <th></th>\n",
       "      <th></th>\n",
       "    </tr>\n",
       "  </thead>\n",
       "  <tbody>\n",
       "    <tr>\n",
       "      <th>2020-01-06</th>\n",
       "      <td>1.214205e+18</td>\n",
       "      <td>-0.056810</td>\n",
       "      <td>0.094000</td>\n",
       "      <td>0.813400</td>\n",
       "      <td>0.092500</td>\n",
       "    </tr>\n",
       "    <tr>\n",
       "      <th>2020-01-07</th>\n",
       "      <td>1.214532e+18</td>\n",
       "      <td>0.110962</td>\n",
       "      <td>0.049875</td>\n",
       "      <td>0.884500</td>\n",
       "      <td>0.065625</td>\n",
       "    </tr>\n",
       "    <tr>\n",
       "      <th>2020-01-08</th>\n",
       "      <td>1.214905e+18</td>\n",
       "      <td>0.480729</td>\n",
       "      <td>0.016571</td>\n",
       "      <td>0.834429</td>\n",
       "      <td>0.149000</td>\n",
       "    </tr>\n",
       "    <tr>\n",
       "      <th>2020-01-09</th>\n",
       "      <td>1.215315e+18</td>\n",
       "      <td>0.104675</td>\n",
       "      <td>0.076000</td>\n",
       "      <td>0.842875</td>\n",
       "      <td>0.081250</td>\n",
       "    </tr>\n",
       "    <tr>\n",
       "      <th>2020-01-10</th>\n",
       "      <td>1.215625e+18</td>\n",
       "      <td>0.374556</td>\n",
       "      <td>0.027222</td>\n",
       "      <td>0.830111</td>\n",
       "      <td>0.142667</td>\n",
       "    </tr>\n",
       "    <tr>\n",
       "      <th>...</th>\n",
       "      <td>...</td>\n",
       "      <td>...</td>\n",
       "      <td>...</td>\n",
       "      <td>...</td>\n",
       "      <td>...</td>\n",
       "    </tr>\n",
       "    <tr>\n",
       "      <th>2020-11-08</th>\n",
       "      <td>NaN</td>\n",
       "      <td>NaN</td>\n",
       "      <td>NaN</td>\n",
       "      <td>NaN</td>\n",
       "      <td>NaN</td>\n",
       "    </tr>\n",
       "    <tr>\n",
       "      <th>2020-11-09</th>\n",
       "      <td>NaN</td>\n",
       "      <td>NaN</td>\n",
       "      <td>NaN</td>\n",
       "      <td>NaN</td>\n",
       "      <td>NaN</td>\n",
       "    </tr>\n",
       "    <tr>\n",
       "      <th>2020-11-10</th>\n",
       "      <td>NaN</td>\n",
       "      <td>NaN</td>\n",
       "      <td>NaN</td>\n",
       "      <td>NaN</td>\n",
       "      <td>NaN</td>\n",
       "    </tr>\n",
       "    <tr>\n",
       "      <th>2020-11-11</th>\n",
       "      <td>NaN</td>\n",
       "      <td>NaN</td>\n",
       "      <td>NaN</td>\n",
       "      <td>NaN</td>\n",
       "      <td>NaN</td>\n",
       "    </tr>\n",
       "    <tr>\n",
       "      <th>2020-11-12</th>\n",
       "      <td>1.326844e+18</td>\n",
       "      <td>0.624900</td>\n",
       "      <td>0.000000</td>\n",
       "      <td>0.850000</td>\n",
       "      <td>0.150000</td>\n",
       "    </tr>\n",
       "  </tbody>\n",
       "</table>\n",
       "<p>312 rows × 5 columns</p>\n",
       "</div>"
      ],
      "text/plain": [
       "                      id  compound       neg       neu       pos\n",
       "date                                                            \n",
       "2020-01-06  1.214205e+18 -0.056810  0.094000  0.813400  0.092500\n",
       "2020-01-07  1.214532e+18  0.110962  0.049875  0.884500  0.065625\n",
       "2020-01-08  1.214905e+18  0.480729  0.016571  0.834429  0.149000\n",
       "2020-01-09  1.215315e+18  0.104675  0.076000  0.842875  0.081250\n",
       "2020-01-10  1.215625e+18  0.374556  0.027222  0.830111  0.142667\n",
       "...                  ...       ...       ...       ...       ...\n",
       "2020-11-08           NaN       NaN       NaN       NaN       NaN\n",
       "2020-11-09           NaN       NaN       NaN       NaN       NaN\n",
       "2020-11-10           NaN       NaN       NaN       NaN       NaN\n",
       "2020-11-11           NaN       NaN       NaN       NaN       NaN\n",
       "2020-11-12  1.326844e+18  0.624900  0.000000  0.850000  0.150000\n",
       "\n",
       "[312 rows x 5 columns]"
      ]
     },
     "execution_count": 13,
     "metadata": {},
     "output_type": "execute_result"
    }
   ],
   "source": [
    "df2.tz_localize(None)"
   ]
  },
  {
   "cell_type": "code",
   "execution_count": 14,
   "metadata": {},
   "outputs": [],
   "source": [
    "#df1.to_csv('tweets_resampled_mean.csv')"
   ]
  },
  {
   "cell_type": "code",
   "execution_count": 15,
   "metadata": {},
   "outputs": [],
   "source": [
    "_pfe = pd.read_csv(\"/Users/Graham/data-works/PFE.csv\", index_col=0, parse_dates=True)"
   ]
  },
  {
   "cell_type": "code",
   "execution_count": 16,
   "metadata": {},
   "outputs": [
    {
     "data": {
      "text/html": [
       "<div>\n",
       "<style scoped>\n",
       "    .dataframe tbody tr th:only-of-type {\n",
       "        vertical-align: middle;\n",
       "    }\n",
       "\n",
       "    .dataframe tbody tr th {\n",
       "        vertical-align: top;\n",
       "    }\n",
       "\n",
       "    .dataframe thead th {\n",
       "        text-align: right;\n",
       "    }\n",
       "</style>\n",
       "<table border=\"1\" class=\"dataframe\">\n",
       "  <thead>\n",
       "    <tr style=\"text-align: right;\">\n",
       "      <th></th>\n",
       "      <th>Open</th>\n",
       "      <th>High</th>\n",
       "      <th>Low</th>\n",
       "      <th>Close</th>\n",
       "      <th>Adj Close</th>\n",
       "      <th>Volume</th>\n",
       "      <th>Returns</th>\n",
       "    </tr>\n",
       "    <tr>\n",
       "      <th>Date</th>\n",
       "      <th></th>\n",
       "      <th></th>\n",
       "      <th></th>\n",
       "      <th></th>\n",
       "      <th></th>\n",
       "      <th></th>\n",
       "      <th></th>\n",
       "    </tr>\n",
       "  </thead>\n",
       "  <tbody>\n",
       "    <tr>\n",
       "      <th>2020-01-03</th>\n",
       "      <td>38.720001</td>\n",
       "      <td>39.240002</td>\n",
       "      <td>38.669998</td>\n",
       "      <td>38.930000</td>\n",
       "      <td>37.402126</td>\n",
       "      <td>14158300</td>\n",
       "      <td>-0.005380</td>\n",
       "    </tr>\n",
       "    <tr>\n",
       "      <th>2020-01-06</th>\n",
       "      <td>38.820000</td>\n",
       "      <td>39.000000</td>\n",
       "      <td>38.700001</td>\n",
       "      <td>38.880001</td>\n",
       "      <td>37.354088</td>\n",
       "      <td>14963900</td>\n",
       "      <td>-0.001285</td>\n",
       "    </tr>\n",
       "    <tr>\n",
       "      <th>2020-01-07</th>\n",
       "      <td>39.119999</td>\n",
       "      <td>39.130001</td>\n",
       "      <td>38.680000</td>\n",
       "      <td>38.750000</td>\n",
       "      <td>37.229195</td>\n",
       "      <td>19077900</td>\n",
       "      <td>-0.003349</td>\n",
       "    </tr>\n",
       "    <tr>\n",
       "      <th>2020-01-08</th>\n",
       "      <td>38.759998</td>\n",
       "      <td>39.220001</td>\n",
       "      <td>38.750000</td>\n",
       "      <td>39.060001</td>\n",
       "      <td>37.527027</td>\n",
       "      <td>15563100</td>\n",
       "      <td>0.007968</td>\n",
       "    </tr>\n",
       "    <tr>\n",
       "      <th>2020-01-09</th>\n",
       "      <td>39.270000</td>\n",
       "      <td>39.270000</td>\n",
       "      <td>38.790001</td>\n",
       "      <td>38.889999</td>\n",
       "      <td>37.363697</td>\n",
       "      <td>20846200</td>\n",
       "      <td>-0.004362</td>\n",
       "    </tr>\n",
       "    <tr>\n",
       "      <th>...</th>\n",
       "      <td>...</td>\n",
       "      <td>...</td>\n",
       "      <td>...</td>\n",
       "      <td>...</td>\n",
       "      <td>...</td>\n",
       "      <td>...</td>\n",
       "      <td>...</td>\n",
       "    </tr>\n",
       "    <tr>\n",
       "      <th>2020-11-05</th>\n",
       "      <td>37.250000</td>\n",
       "      <td>37.299999</td>\n",
       "      <td>36.389999</td>\n",
       "      <td>36.389999</td>\n",
       "      <td>36.389999</td>\n",
       "      <td>32188800</td>\n",
       "      <td>-0.025503</td>\n",
       "    </tr>\n",
       "    <tr>\n",
       "      <th>2020-11-06</th>\n",
       "      <td>36.389999</td>\n",
       "      <td>36.720001</td>\n",
       "      <td>36.090000</td>\n",
       "      <td>36.400002</td>\n",
       "      <td>36.400002</td>\n",
       "      <td>22647700</td>\n",
       "      <td>0.000275</td>\n",
       "    </tr>\n",
       "    <tr>\n",
       "      <th>2020-11-09</th>\n",
       "      <td>41.860001</td>\n",
       "      <td>41.990002</td>\n",
       "      <td>38.380001</td>\n",
       "      <td>39.200001</td>\n",
       "      <td>39.200001</td>\n",
       "      <td>218362300</td>\n",
       "      <td>0.074108</td>\n",
       "    </tr>\n",
       "    <tr>\n",
       "      <th>2020-11-10</th>\n",
       "      <td>40.450001</td>\n",
       "      <td>40.540001</td>\n",
       "      <td>38.459999</td>\n",
       "      <td>38.680000</td>\n",
       "      <td>38.680000</td>\n",
       "      <td>75988300</td>\n",
       "      <td>-0.013354</td>\n",
       "    </tr>\n",
       "    <tr>\n",
       "      <th>2020-11-11</th>\n",
       "      <td>38.880001</td>\n",
       "      <td>40.200001</td>\n",
       "      <td>37.900002</td>\n",
       "      <td>38.500000</td>\n",
       "      <td>38.500000</td>\n",
       "      <td>55879300</td>\n",
       "      <td>-0.004664</td>\n",
       "    </tr>\n",
       "  </tbody>\n",
       "</table>\n",
       "<p>218 rows × 7 columns</p>\n",
       "</div>"
      ],
      "text/plain": [
       "                 Open       High        Low      Close  Adj Close     Volume  \\\n",
       "Date                                                                           \n",
       "2020-01-03  38.720001  39.240002  38.669998  38.930000  37.402126   14158300   \n",
       "2020-01-06  38.820000  39.000000  38.700001  38.880001  37.354088   14963900   \n",
       "2020-01-07  39.119999  39.130001  38.680000  38.750000  37.229195   19077900   \n",
       "2020-01-08  38.759998  39.220001  38.750000  39.060001  37.527027   15563100   \n",
       "2020-01-09  39.270000  39.270000  38.790001  38.889999  37.363697   20846200   \n",
       "...               ...        ...        ...        ...        ...        ...   \n",
       "2020-11-05  37.250000  37.299999  36.389999  36.389999  36.389999   32188800   \n",
       "2020-11-06  36.389999  36.720001  36.090000  36.400002  36.400002   22647700   \n",
       "2020-11-09  41.860001  41.990002  38.380001  39.200001  39.200001  218362300   \n",
       "2020-11-10  40.450001  40.540001  38.459999  38.680000  38.680000   75988300   \n",
       "2020-11-11  38.880001  40.200001  37.900002  38.500000  38.500000   55879300   \n",
       "\n",
       "             Returns  \n",
       "Date                  \n",
       "2020-01-03 -0.005380  \n",
       "2020-01-06 -0.001285  \n",
       "2020-01-07 -0.003349  \n",
       "2020-01-08  0.007968  \n",
       "2020-01-09 -0.004362  \n",
       "...              ...  \n",
       "2020-11-05 -0.025503  \n",
       "2020-11-06  0.000275  \n",
       "2020-11-09  0.074108  \n",
       "2020-11-10 -0.013354  \n",
       "2020-11-11 -0.004664  \n",
       "\n",
       "[218 rows x 7 columns]"
      ]
     },
     "execution_count": 16,
     "metadata": {},
     "output_type": "execute_result"
    }
   ],
   "source": [
    "_pfe['Returns'] = np.log(_pfe['Close'] / _pfe['Close'].shift(1))\n",
    "_pfe = _pfe.dropna()\n",
    "_pfe.tz_localize(None)\n",
    "#pfe = _pfe['Close']\n",
    "#pfe.to_frame()"
   ]
  },
  {
   "cell_type": "code",
   "execution_count": 17,
   "metadata": {},
   "outputs": [],
   "source": [
    "df2 = df2.loc[df2.index.to_series().dt.weekday < 5]\n",
    "# df2.to_csv('tweet_sentiment_resampled.csv')"
   ]
  },
  {
   "cell_type": "code",
   "execution_count": 44,
   "metadata": {},
   "outputs": [],
   "source": [
    "# Manually combine the two dataframes in Excel, then port it back into the notebook\n",
    "combined_df = pd.read_csv(\"/Users/Graham/data-works/sentiment_and_pfe.csv\")"
   ]
  },
  {
   "cell_type": "code",
   "execution_count": 72,
   "metadata": {},
   "outputs": [],
   "source": [
    "combined_df = combined_df.set_index('date')"
   ]
  },
  {
   "cell_type": "code",
   "execution_count": null,
   "metadata": {},
   "outputs": [],
   "source": []
  },
  {
   "cell_type": "code",
   "execution_count": 73,
   "metadata": {},
   "outputs": [],
   "source": [
    "# Multiplying the sentiment results to fit between 0 and 100\n",
    "combined_df['compound'] = combined_df['compound'] * 100\n",
    "combined_df['neg'] = combined_df['neg'] * 100\n",
    "combined_df['neu'] = combined_df['neu'] * 100\n",
    "combined_df['pos'] = combined_df['pos'] * 100"
   ]
  },
  {
   "cell_type": "code",
   "execution_count": null,
   "metadata": {},
   "outputs": [],
   "source": [
    "\n"
   ]
  },
  {
   "cell_type": "code",
   "execution_count": 74,
   "metadata": {},
   "outputs": [],
   "source": [
    "# Calculating Log Returns Column\n",
    "combined_df['returns'] = np.log(combined_df['Close'] / combined_df['Close'].shift(1))\n",
    "# Long when the sentiment[pos > neg] and short otherwise\n",
    "combined_df['position'] = np.where(combined_df['pos'] > combined_df['neg'], 1, -1)\n",
    "# Create Strategy column & by multiplying SHIFTED position to avoid hindsight bias\n",
    "combined_df['strategy'] = combined_df['position'].shift(1) * combined_df['returns']\n",
    "combined_df.dropna(inplace=True)"
   ]
  },
  {
   "cell_type": "code",
   "execution_count": null,
   "metadata": {},
   "outputs": [],
   "source": []
  },
  {
   "cell_type": "code",
   "execution_count": 75,
   "metadata": {},
   "outputs": [
    {
     "data": {
      "text/plain": [
       "returns     0.990226\n",
       "strategy    1.298550\n",
       "dtype: float64"
      ]
     },
     "execution_count": 75,
     "metadata": {},
     "output_type": "execute_result"
    }
   ],
   "source": [
    "# the strategy outperforms the returns benchmark over the period\n",
    "np.exp(combined_df[['returns','strategy']].sum())"
   ]
  },
  {
   "cell_type": "code",
   "execution_count": 79,
   "metadata": {},
   "outputs": [
    {
     "data": {
      "text/plain": [
       "compound    216\n",
       "neg         216\n",
       "neu         216\n",
       "pos         216\n",
       "Close       216\n",
       "Volume      216\n",
       "returns     216\n",
       "position    216\n",
       "strategy    216\n",
       "dtype: int64"
      ]
     },
     "execution_count": 79,
     "metadata": {},
     "output_type": "execute_result"
    }
   ],
   "source": [
    "combined_df.head()"
   ]
  },
  {
   "cell_type": "code",
   "execution_count": 77,
   "metadata": {},
   "outputs": [],
   "source": [
    "retl = combined_df['returns'].cumsum()\n",
    "stratl = combined_df['strategy'].cumsum()"
   ]
  },
  {
   "cell_type": "code",
   "execution_count": 111,
   "metadata": {},
   "outputs": [
    {
     "data": {
      "text/plain": [
       "Text(0, 0.5, 'Cumulative Returns')"
      ]
     },
     "execution_count": 111,
     "metadata": {},
     "output_type": "execute_result"
    },
    {
     "data": {
      "image/png": "[encoded data removed]",
      "text/plain": [
       "<Figure size 1440x1152 with 1 Axes>"
      ]
     },
     "metadata": {},
     "output_type": "display_data"
    }
   ],
   "source": [
    "import matplotlib.dates as mdates\n",
    "\n",
    "plt.figure(figsize=(20,16))\n",
    "plt.style.use('seaborn')\n",
    "plt.plot(retl, linestyle=':', label='Return Benchmark')\n",
    "plt.plot(stratl, label='Strategy')\n",
    "plt.xlabel('Date')\n",
    "plt.ylabel('Cumulative Returns')\n",
    "# Unclutter dates on x-axis"
   ]
  },
  {
   "cell_type": "code",
   "execution_count": null,
   "metadata": {},
   "outputs": [],
   "source": []
  },
  {
   "cell_type": "code",
   "execution_count": null,
   "metadata": {},
   "outputs": [],
   "source": []
  },
  {
   "cell_type": "code",
   "execution_count": null,
   "metadata": {},
   "outputs": [],
   "source": []
  }
 ],
 "metadata": {
  "kernelspec": {
   "display_name": "Python 3",
   "language": "python",
   "name": "python3"
  },
  "language_info": {
   "codemirror_mode": {
    "name": "ipython",
    "version": 3
   },
   "file_extension": ".py",
   "mimetype": "text/x-python",
   "name": "python",
   "nbconvert_exporter": "python",
   "pygments_lexer": "ipython3",
   "version": "3.8.5"
  }
 },
 "nbformat": 4,
 "nbformat_minor": 4
}
