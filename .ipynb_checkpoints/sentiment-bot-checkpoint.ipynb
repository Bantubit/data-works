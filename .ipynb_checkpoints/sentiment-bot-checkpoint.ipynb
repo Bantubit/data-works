{
 "cells": [
  {
   "cell_type": "code",
   "execution_count": 1,
   "metadata": {},
   "outputs": [],
   "source": [
    "# Primary Goals of this code\n",
    "#    * When called, generate sentiment of given keyword over past 5D (?)"
   ]
  },
  {
   "cell_type": "code",
   "execution_count": 3,
   "metadata": {},
   "outputs": [],
   "source": [
    "import pandas as pd\n",
    "import numpy as np\n",
    "import matplotlib as mpl\n",
    "import csv\n",
    "import snscrape.modules.twitter as sntwitter\n",
    "from vaderSentiment.vaderSentiment import SentimentIntensityAnalyzer\n",
    "import datetime as dt"
   ]
  },
  {
   "cell_type": "code",
   "execution_count": 25,
   "metadata": {},
   "outputs": [
    {
     "name": "stdout",
     "output_type": "stream",
     "text": [
      "2020-11-17\n",
      "2020-11-18\n"
     ]
    }
   ],
   "source": [
    "# Generating datetime objects\n",
    "from datetime import datetime, timedelta\n",
    "now = datetime.now()\n",
    "now = now.strftime('%Y-%m-%d')\n",
    "yesterday = datetime.now() - timedelta(days = 1)\n",
    "yesterday = yesterday.strftime('%Y-%m-%d')\n",
    "print(yesterday)\n",
    "print(now)"
   ]
  },
  {
   "cell_type": "code",
   "execution_count": 11,
   "metadata": {},
   "outputs": [
    {
     "name": "stdout",
     "output_type": "stream",
     "text": [
      "3.8.5\n"
     ]
    }
   ],
   "source": [
    "# Using Python 3.8\n",
    "from platform import python_version\n",
    "\n",
    "print(python_version())"
   ]
  },
  {
   "cell_type": "code",
   "execution_count": 32,
   "metadata": {},
   "outputs": [
    {
     "name": "stdout",
     "output_type": "stream",
     "text": [
      "Enter a topic or keyword, please.Trump\n"
     ]
    }
   ],
   "source": [
    "keyword = input('Enter a topic or keyword, please.')"
   ]
  },
  {
   "cell_type": "code",
   "execution_count": 33,
   "metadata": {},
   "outputs": [],
   "source": [
    "maxTweets = 80000\n",
    "\n",
    "\n",
    "#Open/create a file to append data to\n",
    "csvFile = open('sentiment-bot-result.csv', 'a', newline='', encoding='utf8')\n",
    "\n",
    "#Use csv writer\n",
    "csvWriter = csv.writer(csvFile)\n",
    "csvWriter.writerow(['id','date','tweet',]) \n",
    "\n",
    "\n",
    "for i,tweet in enumerate(sntwitter.TwitterSearchScraper(keyword + ' lang:en since:' +  yesterday + ' until:' + now + ' -filter:links -filter:replies').get_items()):\n",
    "        if i > maxTweets :\n",
    "            break  \n",
    "        csvWriter.writerow([tweet.id, tweet.date, tweet.content])\n",
    "csvFile.close()"
   ]
  },
  {
   "cell_type": "code",
   "execution_count": 28,
   "metadata": {},
   "outputs": [],
   "source": [
    "df = pd.read_csv('/Users/Graham/data-works/sentiment-bot-result.csv', parse_dates=True, index_col=0)"
   ]
  },
  {
   "cell_type": "code",
   "execution_count": 31,
   "metadata": {},
   "outputs": [],
   "source": [
    "analyzer = SentimentIntensityAnalyzer()"
   ]
  },
  {
   "cell_type": "code",
   "execution_count": 37,
   "metadata": {},
   "outputs": [],
   "source": [
    "df['compound'] = [analyzer.polarity_scores(x)['compound'] for x in df['tweet']] \n",
    "df['neg'] = [analyzer.polarity_scores(x)['neg'] for x in df['tweet']]\n",
    "df['neu'] = [analyzer.polarity_scores(x)['neu'] for x in df['tweet']]\n",
    "df['pos'] = [analyzer.polarity_scores(x)['pos'] for x in df['tweet']]"
   ]
  },
  {
   "cell_type": "code",
   "execution_count": 40,
   "metadata": {},
   "outputs": [],
   "source": [
    "avg_compound = np.average(df['compound'])\n",
    "avg_neg = np.average(df['neg'])\n",
    "avg_neu = np.average(df['neu'])\n",
    "avg_pos = np.average(df['pos'])"
   ]
  },
  {
   "cell_type": "code",
   "execution_count": 48,
   "metadata": {},
   "outputs": [],
   "source": [
    "count = len(df.index)"
   ]
  },
  {
   "cell_type": "code",
   "execution_count": 51,
   "metadata": {},
   "outputs": [
    {
     "name": "stdout",
     "output_type": "stream",
     "text": [
      "Since yesterday there has been 29910 tweets on Trump\n",
      "*Positive Sentiment: 0.13829839518555667\n",
      "*Neutral Sentiment: 0.7842956870611836\n",
      "*Negative Sentiment: 0.07740842527582749\n",
      "*Compound Sentiment: 0.12838640922768305\n"
     ]
    }
   ],
   "source": [
    "print(\"Since yesterday there has been\", count ,  \"tweets on \" + keyword, end='\\n*')\n",
    "print(\"Positive Sentiment:\", avg_pos, end='\\n*')\n",
    "print(\"Neutral Sentiment:\", avg_neu, end='\\n*')\n",
    "print(\"Negative Sentiment:\", avg_neg, end='\\n*')\n",
    "print(\"Compound Sentiment:\", avg_compound)"
   ]
  },
  {
   "cell_type": "code",
   "execution_count": null,
   "metadata": {},
   "outputs": [],
   "source": []
  }
 ],
 "metadata": {
  "kernelspec": {
   "display_name": "Python 3",
   "language": "python",
   "name": "python3"
  },
  "language_info": {
   "codemirror_mode": {
    "name": "ipython",
    "version": 3
   },
   "file_extension": ".py",
   "mimetype": "text/x-python",
   "name": "python",
   "nbconvert_exporter": "python",
   "pygments_lexer": "ipython3",
   "version": "3.8.5"
  }
 },
 "nbformat": 4,
 "nbformat_minor": 4
}
