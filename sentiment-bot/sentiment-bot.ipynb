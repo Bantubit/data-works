{
 "cells": [
  {
   "cell_type": "code",
   "execution_count": 1,
   "metadata": {},
   "outputs": [],
   "source": [
    "# Primary Goals of this code\n",
    "#    * When called, generate sentiment of given keyword over past 5D (?)"
   ]
  },
  {
   "cell_type": "code",
   "execution_count": 26,
   "metadata": {},
   "outputs": [],
   "source": [
    "import pandas as pd\n",
    "import numpy as np\n",
    "import matplotlib as mpl\n",
    "import csv\n",
    "import snscrape.modules.twitter as sntwitter\n",
    "from vaderSentiment.vaderSentiment import SentimentIntensityAnalyzer\n",
    "import datetime as dt\n",
    "import time\n",
    "from tqdm import tqdm"
   ]
  },
  {
   "cell_type": "code",
   "execution_count": 27,
   "metadata": {},
   "outputs": [],
   "source": [
    "# Timing our app\n",
    "from timeit import default_timer as timer\n",
    "\n",
    "# START MY TIMER\n",
    "start = timer()"
   ]
  },
  {
   "cell_type": "code",
   "execution_count": 28,
   "metadata": {},
   "outputs": [],
   "source": [
    "# Generating datetime objects\n",
    "from datetime import datetime, timedelta\n",
    "now = datetime.now()\n",
    "now = now.strftime('%Y-%m-%d')\n",
    "yesterday = datetime.now() - timedelta(days = 1)\n",
    "yesterday = yesterday.strftime('%Y-%m-%d')"
   ]
  },
  {
   "cell_type": "code",
   "execution_count": 29,
   "metadata": {},
   "outputs": [],
   "source": [
    "# Using Python 3.8\n",
    "from platform import python_version\n",
    "#print(python_version())"
   ]
  },
  {
   "cell_type": "code",
   "execution_count": 30,
   "metadata": {},
   "outputs": [
    {
     "name": "stdout",
     "output_type": "stream",
     "text": [
      "Enter a topic or keyword, please:ASML\n"
     ]
    }
   ],
   "source": [
    "keyword = input('Enter a topic or keyword, please:')"
   ]
  },
  {
   "cell_type": "code",
   "execution_count": 31,
   "metadata": {},
   "outputs": [],
   "source": [
    "maxTweets = 80000\n",
    "\n",
    "\n",
    "#Open/create a file to append data to\n",
    "csvFile = open(keyword +'-sentiment-' + now + '.csv', 'a', newline='', encoding='utf8')\n",
    "\n",
    "#Use csv writer\n",
    "csvWriter = csv.writer(csvFile)\n",
    "csvWriter.writerow(['id','date','tweet',]) \n",
    "\n",
    "\n",
    "for i,tweet in enumerate(sntwitter.TwitterSearchScraper(keyword + ' lang:en since:' +  yesterday + ' until:' + now + ' -filter:links -filter:replies').get_items()):\n",
    "        if i > maxTweets :\n",
    "            break  \n",
    "        csvWriter.writerow([tweet.id, tweet.date, tweet.content])\n",
    "csvFile.close()"
   ]
  },
  {
   "cell_type": "code",
   "execution_count": 33,
   "metadata": {},
   "outputs": [],
   "source": [
    "df = pd.read_csv('/Users/Graham/data-works/sentiment-bot/'+ keyword +'-sentiment-' + now + '.csv', parse_dates=True, index_col=0)"
   ]
  },
  {
   "cell_type": "code",
   "execution_count": 34,
   "metadata": {},
   "outputs": [],
   "source": [
    "analyzer = SentimentIntensityAnalyzer()"
   ]
  },
  {
   "cell_type": "code",
   "execution_count": 35,
   "metadata": {},
   "outputs": [],
   "source": [
    "df['compound'] = [analyzer.polarity_scores(x)['compound'] for x in df['tweet']] \n",
    "df['neg'] = [analyzer.polarity_scores(x)['neg'] for x in df['tweet']]\n",
    "df['neu'] = [analyzer.polarity_scores(x)['neu'] for x in df['tweet']]\n",
    "df['pos'] = [analyzer.polarity_scores(x)['pos'] for x in df['tweet']]"
   ]
  },
  {
   "cell_type": "code",
   "execution_count": 55,
   "metadata": {},
   "outputs": [],
   "source": [
    "avg_compound = np.average(df['compound'])\n",
    "avg_neg = np.average(df['neg']) * -1  # Change neg value to negative number for clarity\n",
    "avg_neu = np.average(df['neu'])\n",
    "avg_pos = np.average(df['pos'])"
   ]
  },
  {
   "cell_type": "code",
   "execution_count": 56,
   "metadata": {},
   "outputs": [],
   "source": [
    "count = len(df.index)"
   ]
  },
  {
   "cell_type": "code",
   "execution_count": 57,
   "metadata": {},
   "outputs": [
    {
     "name": "stdout",
     "output_type": "stream",
     "text": [
      "Since yesterday there has been 4 tweets on ASML\n",
      "*Positive Sentiment: 0.09\n",
      "*Neutral Sentiment: 0.88\n",
      "*Negative Sentiment: -0.02\n",
      "*Compound Sentiment: 0.27\n"
     ]
    }
   ],
   "source": [
    "print(\"Since yesterday there has been\", count ,  \"tweets on \" + keyword, end='\\n*')\n",
    "print(\"Positive Sentiment:\", '%.2f' % avg_pos, end='\\n*')\n",
    "print(\"Neutral Sentiment:\", '%.2f' % avg_neu, end='\\n*')\n",
    "print(\"Negative Sentiment:\", '%.2f' % avg_neg, end='\\n*')\n",
    "print(\"Compound Sentiment:\", '%.2f' % avg_compound, end='\\n')"
   ]
  },
  {
   "cell_type": "code",
   "execution_count": 44,
   "metadata": {},
   "outputs": [
    {
     "name": "stdout",
     "output_type": "stream",
     "text": [
      "Program Executed in 4.35 minutes\n"
     ]
    }
   ],
   "source": [
    "# STOP MY TIMER\n",
    "elapsed_time = (timer() - start) / 60 # in seconds\n",
    "print(\"Program Executed in\", '%.2f' % elapsed_time, \"minutes\")"
   ]
  },
  {
   "cell_type": "code",
   "execution_count": null,
   "metadata": {},
   "outputs": [],
   "source": []
  },
  {
   "cell_type": "code",
   "execution_count": null,
   "metadata": {},
   "outputs": [],
   "source": []
  }
 ],
 "metadata": {
  "kernelspec": {
   "display_name": "Python 3",
   "language": "python",
   "name": "python3"
  },
  "language_info": {
   "codemirror_mode": {
    "name": "ipython",
    "version": 3
   },
   "file_extension": ".py",
   "mimetype": "text/x-python",
   "name": "python",
   "nbconvert_exporter": "python",
   "pygments_lexer": "ipython3",
   "version": "3.8.5"
  }
 },
 "nbformat": 4,
 "nbformat_minor": 4
}
