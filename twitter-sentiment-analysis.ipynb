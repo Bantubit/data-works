{
 "cells": [
  {
   "cell_type": "code",
   "execution_count": 2,
   "metadata": {},
   "outputs": [],
   "source": [
    "import pandas as pd\n",
    "import numpy as np\n",
    "import snscrape.modules.twitter as sntwitter\n",
    "import csv"
   ]
  },
  {
   "cell_type": "code",
   "execution_count": 3,
   "metadata": {},
   "outputs": [
    {
     "name": "stdout",
     "output_type": "stream",
     "text": [
      "3.8.5\n"
     ]
    }
   ],
   "source": [
    "from platform import python_version\n",
    "\n",
    "print(python_version())"
   ]
  },
  {
   "cell_type": "code",
   "execution_count": 5,
   "metadata": {},
   "outputs": [],
   "source": [
    "keyword = 'Covid'\n",
    "maxTweets = 30000\n",
    "\n",
    "#Open/create a file to append data to\n",
    "csvFile = open('result.csv', 'a', newline='', encoding='utf8')\n",
    "\n",
    "#Use csv writer\n",
    "csvWriter = csv.writer(csvFile)\n",
    "csvWriter.writerow(['id','date','tweet']) \n",
    "\n",
    "for i,tweet in enumerate(sntwitter.TwitterSearchScraper(keyword + 'lang:en' + 'since:2020-06-01 until:2020-06-30 -filter:links -filter:replies').get_items()):\n",
    "        if i > maxTweets :\n",
    "            break      \n",
    "        csvWriter.writerow([tweet.id, tweet.date, tweet.content])\n",
    "csvFile.close()"
   ]
  },
  {
   "cell_type": "code",
   "execution_count": 10,
   "metadata": {},
   "outputs": [],
   "source": [
    "maxTweets = 100\n",
    "\n",
    "keyword = 'COVID\n",
    "#place = '01fbe706f872cb32' # This geo_place string corresponds to Washington DC on twitter.\n",
    "\n",
    "#Open/create a file to append data to\n",
    "csvFile = open('result.csv', 'a', newline='', encoding='utf8')\n",
    "\n",
    "#Use csv writer\n",
    "csvWriter = csv.writer(csvFile)\n",
    "csvWriter.writerow(['id','date','tweet',]) \n",
    "\n",
    "for i,tweet in enumerate(sntwitter.TwitterSearchScraper(keyword + ' lang:en since:2020-01-31 until:2020-11-03 -filter:links -filter:replies').get_items()):\n",
    "        if i > maxTweets :\n",
    "            break  \n",
    "        csvWriter.writerow([tweet.id, tweet.date, tweet.content])\n",
    "csvFile.close()"
   ]
  },
  {
   "cell_type": "code",
   "execution_count": null,
   "metadata": {},
   "outputs": [],
   "source": []
  }
 ],
 "metadata": {
  "kernelspec": {
   "display_name": "Python 3",
   "language": "python",
   "name": "python3"
  }
 },
 "nbformat": 4,
 "nbformat_minor": 4
}
